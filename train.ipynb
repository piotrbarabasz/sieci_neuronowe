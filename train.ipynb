{
 "cells": [
  {
   "cell_type": "code",
   "execution_count": 2,
   "metadata": {
    "collapsed": true
   },
   "outputs": [],
   "source": [
    "import pandas as pd"
   ]
  },
  {
   "cell_type": "code",
   "execution_count": 4,
   "metadata": {},
   "outputs": [
    {
     "data": {
      "text/html": [
       "<div>\n",
       "<style scoped>\n",
       "    .dataframe tbody tr th:only-of-type {\n",
       "        vertical-align: middle;\n",
       "    }\n",
       "\n",
       "    .dataframe tbody tr th {\n",
       "        vertical-align: top;\n",
       "    }\n",
       "\n",
       "    .dataframe thead th {\n",
       "        text-align: right;\n",
       "    }\n",
       "</style>\n",
       "<table border=\"1\" class=\"dataframe\">\n",
       "  <thead>\n",
       "    <tr style=\"text-align: right;\">\n",
       "      <th></th>\n",
       "      <th>x</th>\n",
       "      <th>y</th>\n",
       "      <th>z</th>\n",
       "      <th>010-000-024-033</th>\n",
       "      <th>010-000-030-096</th>\n",
       "      <th>020-000-032-221</th>\n",
       "      <th>020-000-033-111</th>\n",
       "      <th>anomaly</th>\n",
       "    </tr>\n",
       "  </thead>\n",
       "  <tbody>\n",
       "    <tr>\n",
       "      <th>0</th>\n",
       "      <td>18.495860</td>\n",
       "      <td>13.766527</td>\n",
       "      <td>14.362624</td>\n",
       "      <td>0.0</td>\n",
       "      <td>0.0</td>\n",
       "      <td>0.0</td>\n",
       "      <td>1.0</td>\n",
       "      <td>0.0</td>\n",
       "    </tr>\n",
       "    <tr>\n",
       "      <th>1</th>\n",
       "      <td>18.501072</td>\n",
       "      <td>13.827225</td>\n",
       "      <td>14.270268</td>\n",
       "      <td>0.0</td>\n",
       "      <td>0.0</td>\n",
       "      <td>1.0</td>\n",
       "      <td>0.0</td>\n",
       "      <td>0.0</td>\n",
       "    </tr>\n",
       "    <tr>\n",
       "      <th>2</th>\n",
       "      <td>18.405950</td>\n",
       "      <td>13.868976</td>\n",
       "      <td>14.094804</td>\n",
       "      <td>1.0</td>\n",
       "      <td>0.0</td>\n",
       "      <td>0.0</td>\n",
       "      <td>0.0</td>\n",
       "      <td>0.0</td>\n",
       "    </tr>\n",
       "    <tr>\n",
       "      <th>3</th>\n",
       "      <td>18.444572</td>\n",
       "      <td>13.910701</td>\n",
       "      <td>14.116078</td>\n",
       "      <td>0.0</td>\n",
       "      <td>1.0</td>\n",
       "      <td>0.0</td>\n",
       "      <td>0.0</td>\n",
       "      <td>0.0</td>\n",
       "    </tr>\n",
       "    <tr>\n",
       "      <th>4</th>\n",
       "      <td>18.418470</td>\n",
       "      <td>13.933917</td>\n",
       "      <td>14.320566</td>\n",
       "      <td>0.0</td>\n",
       "      <td>0.0</td>\n",
       "      <td>0.0</td>\n",
       "      <td>1.0</td>\n",
       "      <td>0.0</td>\n",
       "    </tr>\n",
       "  </tbody>\n",
       "</table>\n",
       "</div>"
      ],
      "text/plain": [
       "           x          y          z  010-000-024-033  010-000-030-096  \\\n",
       "0  18.495860  13.766527  14.362624              0.0              0.0   \n",
       "1  18.501072  13.827225  14.270268              0.0              0.0   \n",
       "2  18.405950  13.868976  14.094804              1.0              0.0   \n",
       "3  18.444572  13.910701  14.116078              0.0              1.0   \n",
       "4  18.418470  13.933917  14.320566              0.0              0.0   \n",
       "\n",
       "   020-000-032-221  020-000-033-111  anomaly  \n",
       "0              0.0              1.0      0.0  \n",
       "1              1.0              0.0      0.0  \n",
       "2              0.0              0.0      0.0  \n",
       "3              0.0              0.0      0.0  \n",
       "4              0.0              1.0      0.0  "
      ]
     },
     "execution_count": 4,
     "metadata": {},
     "output_type": "execute_result"
    }
   ],
   "source": [
    "train = pd.read_csv('train/data_0.csv')\n",
    "train.head()"
   ]
  },
  {
   "cell_type": "code",
   "execution_count": 5,
   "metadata": {},
   "outputs": [
    {
     "data": {
      "text/html": [
       "<div>\n",
       "<style scoped>\n",
       "    .dataframe tbody tr th:only-of-type {\n",
       "        vertical-align: middle;\n",
       "    }\n",
       "\n",
       "    .dataframe tbody tr th {\n",
       "        vertical-align: top;\n",
       "    }\n",
       "\n",
       "    .dataframe thead th {\n",
       "        text-align: right;\n",
       "    }\n",
       "</style>\n",
       "<table border=\"1\" class=\"dataframe\">\n",
       "  <thead>\n",
       "    <tr style=\"text-align: right;\">\n",
       "      <th></th>\n",
       "      <th>x</th>\n",
       "      <th>y</th>\n",
       "      <th>z</th>\n",
       "      <th>010-000-024-033</th>\n",
       "      <th>010-000-030-096</th>\n",
       "      <th>020-000-032-221</th>\n",
       "      <th>020-000-033-111</th>\n",
       "      <th>anomaly</th>\n",
       "    </tr>\n",
       "  </thead>\n",
       "  <tbody>\n",
       "    <tr>\n",
       "      <th>0</th>\n",
       "      <td>18.495860</td>\n",
       "      <td>13.766527</td>\n",
       "      <td>14.362624</td>\n",
       "      <td>0.0</td>\n",
       "      <td>0.0</td>\n",
       "      <td>0.0</td>\n",
       "      <td>1.0</td>\n",
       "      <td>0.0</td>\n",
       "    </tr>\n",
       "    <tr>\n",
       "      <th>1</th>\n",
       "      <td>18.501072</td>\n",
       "      <td>13.827225</td>\n",
       "      <td>14.270268</td>\n",
       "      <td>0.0</td>\n",
       "      <td>0.0</td>\n",
       "      <td>1.0</td>\n",
       "      <td>0.0</td>\n",
       "      <td>0.0</td>\n",
       "    </tr>\n",
       "    <tr>\n",
       "      <th>2</th>\n",
       "      <td>18.405950</td>\n",
       "      <td>13.868976</td>\n",
       "      <td>14.094804</td>\n",
       "      <td>1.0</td>\n",
       "      <td>0.0</td>\n",
       "      <td>0.0</td>\n",
       "      <td>0.0</td>\n",
       "      <td>0.0</td>\n",
       "    </tr>\n",
       "    <tr>\n",
       "      <th>3</th>\n",
       "      <td>18.444572</td>\n",
       "      <td>13.910701</td>\n",
       "      <td>14.116078</td>\n",
       "      <td>0.0</td>\n",
       "      <td>1.0</td>\n",
       "      <td>0.0</td>\n",
       "      <td>0.0</td>\n",
       "      <td>0.0</td>\n",
       "    </tr>\n",
       "    <tr>\n",
       "      <th>4</th>\n",
       "      <td>18.418470</td>\n",
       "      <td>13.933917</td>\n",
       "      <td>14.320566</td>\n",
       "      <td>0.0</td>\n",
       "      <td>0.0</td>\n",
       "      <td>0.0</td>\n",
       "      <td>1.0</td>\n",
       "      <td>0.0</td>\n",
       "    </tr>\n",
       "  </tbody>\n",
       "</table>\n",
       "</div>"
      ],
      "text/plain": [
       "           x          y          z  010-000-024-033  010-000-030-096  \\\n",
       "0  18.495860  13.766527  14.362624              0.0              0.0   \n",
       "1  18.501072  13.827225  14.270268              0.0              0.0   \n",
       "2  18.405950  13.868976  14.094804              1.0              0.0   \n",
       "3  18.444572  13.910701  14.116078              0.0              1.0   \n",
       "4  18.418470  13.933917  14.320566              0.0              0.0   \n",
       "\n",
       "   020-000-032-221  020-000-033-111  anomaly  \n",
       "0              0.0              1.0      0.0  \n",
       "1              1.0              0.0      0.0  \n",
       "2              0.0              0.0      0.0  \n",
       "3              0.0              0.0      0.0  \n",
       "4              0.0              1.0      0.0  "
      ]
     },
     "execution_count": 5,
     "metadata": {},
     "output_type": "execute_result"
    }
   ],
   "source": [
    "test = pd.read_csv('train/data_0.csv')\n",
    "test.head()"
   ]
  },
  {
   "cell_type": "code",
   "execution_count": 7,
   "metadata": {},
   "outputs": [
    {
     "data": {
      "text/html": [
       "<div>\n",
       "<style scoped>\n",
       "    .dataframe tbody tr th:only-of-type {\n",
       "        vertical-align: middle;\n",
       "    }\n",
       "\n",
       "    .dataframe tbody tr th {\n",
       "        vertical-align: top;\n",
       "    }\n",
       "\n",
       "    .dataframe thead th {\n",
       "        text-align: right;\n",
       "    }\n",
       "</style>\n",
       "<table border=\"1\" class=\"dataframe\">\n",
       "  <thead>\n",
       "    <tr style=\"text-align: right;\">\n",
       "      <th></th>\n",
       "      <th>Model</th>\n",
       "      <th>Accuracy</th>\n",
       "      <th>Precision</th>\n",
       "      <th>Recall</th>\n",
       "      <th>F1 Score</th>\n",
       "      <th>ROC AUC Score</th>\n",
       "    </tr>\n",
       "  </thead>\n",
       "  <tbody>\n",
       "    <tr>\n",
       "      <th>0</th>\n",
       "      <td>CNN-LSTM</td>\n",
       "      <td>0.940393</td>\n",
       "      <td>0.408907</td>\n",
       "      <td>0.250932</td>\n",
       "      <td>0.311008</td>\n",
       "      <td>0.615191</td>\n",
       "    </tr>\n",
       "    <tr>\n",
       "      <th>1</th>\n",
       "      <td>LSTM</td>\n",
       "      <td>0.946254</td>\n",
       "      <td>0.441176</td>\n",
       "      <td>0.009317</td>\n",
       "      <td>0.018248</td>\n",
       "      <td>0.504324</td>\n",
       "    </tr>\n",
       "    <tr>\n",
       "      <th>2</th>\n",
       "      <td>Dense</td>\n",
       "      <td>0.946154</td>\n",
       "      <td>0.493694</td>\n",
       "      <td>0.170186</td>\n",
       "      <td>0.253118</td>\n",
       "      <td>0.580149</td>\n",
       "    </tr>\n",
       "  </tbody>\n",
       "</table>\n",
       "</div>"
      ],
      "text/plain": [
       "      Model  Accuracy  Precision    Recall  F1 Score  ROC AUC Score\n",
       "0  CNN-LSTM  0.940393   0.408907  0.250932  0.311008       0.615191\n",
       "1      LSTM  0.946254   0.441176  0.009317  0.018248       0.504324\n",
       "2     Dense  0.946154   0.493694  0.170186  0.253118       0.580149"
      ]
     },
     "execution_count": 7,
     "metadata": {},
     "output_type": "execute_result"
    }
   ],
   "source": [
    "models_results = pd.read_csv('model_results.csv')\n",
    "models_results.head()"
   ]
  },
  {
   "cell_type": "code",
   "execution_count": 9,
   "metadata": {},
   "outputs": [
    {
     "data": {
      "text/html": [
       "<div>\n",
       "<style scoped>\n",
       "    .dataframe tbody tr th:only-of-type {\n",
       "        vertical-align: middle;\n",
       "    }\n",
       "\n",
       "    .dataframe tbody tr th {\n",
       "        vertical-align: top;\n",
       "    }\n",
       "\n",
       "    .dataframe thead th {\n",
       "        text-align: right;\n",
       "    }\n",
       "</style>\n",
       "<table border=\"1\" class=\"dataframe\">\n",
       "  <thead>\n",
       "    <tr style=\"text-align: right;\">\n",
       "      <th></th>\n",
       "      <th>CNN-LSTM</th>\n",
       "      <th>LSTM</th>\n",
       "      <th>Dense</th>\n",
       "    </tr>\n",
       "  </thead>\n",
       "  <tbody>\n",
       "    <tr>\n",
       "      <th>0</th>\n",
       "      <td>False</td>\n",
       "      <td>False</td>\n",
       "      <td>False</td>\n",
       "    </tr>\n",
       "    <tr>\n",
       "      <th>1</th>\n",
       "      <td>False</td>\n",
       "      <td>False</td>\n",
       "      <td>False</td>\n",
       "    </tr>\n",
       "    <tr>\n",
       "      <th>2</th>\n",
       "      <td>False</td>\n",
       "      <td>False</td>\n",
       "      <td>False</td>\n",
       "    </tr>\n",
       "    <tr>\n",
       "      <th>3</th>\n",
       "      <td>False</td>\n",
       "      <td>False</td>\n",
       "      <td>False</td>\n",
       "    </tr>\n",
       "    <tr>\n",
       "      <th>4</th>\n",
       "      <td>False</td>\n",
       "      <td>False</td>\n",
       "      <td>False</td>\n",
       "    </tr>\n",
       "  </tbody>\n",
       "</table>\n",
       "</div>"
      ],
      "text/plain": [
       "   CNN-LSTM   LSTM  Dense\n",
       "0     False  False  False\n",
       "1     False  False  False\n",
       "2     False  False  False\n",
       "3     False  False  False\n",
       "4     False  False  False"
      ]
     },
     "execution_count": 9,
     "metadata": {},
     "output_type": "execute_result"
    }
   ],
   "source": [
    "anomaly_detection_results = pd.read_csv('anomalies_detected.csv')\n",
    "anomaly_detection_results.head()"
   ]
  },
  {
   "cell_type": "code",
   "execution_count": 10,
   "metadata": {},
   "outputs": [
    {
     "name": "stdout",
     "output_type": "stream",
     "text": [
      "\n",
      "Count of values in CNN-LSTM column:\n",
      "False    6516\n",
      "True      107\n",
      "Name: CNN-LSTM, dtype: int64\n",
      "\n",
      "Count of values in LSTM column:\n",
      "False    6623\n",
      "Name: LSTM, dtype: int64\n",
      "\n",
      "Count of values in Dense column:\n",
      "False    6395\n",
      "True      228\n",
      "Name: Dense, dtype: int64\n"
     ]
    }
   ],
   "source": [
    "cnn_lstm_counts = anomaly_detection_results['CNN-LSTM'].value_counts()\n",
    "lstm_counts = anomaly_detection_results['LSTM'].value_counts()\n",
    "dense_counts = anomaly_detection_results['Dense'].value_counts()\n",
    "\n",
    "print(\"\\nCount of values in CNN-LSTM column:\")\n",
    "print(cnn_lstm_counts)\n",
    "\n",
    "print(\"\\nCount of values in LSTM column:\")\n",
    "print(lstm_counts)\n",
    "\n",
    "print(\"\\nCount of values in Dense column:\")\n",
    "print(dense_counts)"
   ]
  },
  {
   "cell_type": "code",
   "execution_count": null,
   "metadata": {},
   "outputs": [],
   "source": [
    "import matplotlib.pyplot as plt\n",
    "import numpy as np"
   ]
  },
  {
   "cell_type": "code",
   "execution_count": 10,
   "metadata": {
    "collapsed": false,
    "pycharm": {
     "name": "#%%\n"
    }
   },
   "outputs": [],
   "source": [
    "from data_handler import DataHandler\n",
    "\n",
    "data_handler = DataHandler()\n",
    "data_handler.load_data()\n",
    "X_train, y_train, X_test, y_test = data_handler.preprocess_data()\n"
   ]
  },
  {
   "cell_type": "code",
   "execution_count": 11,
   "metadata": {},
   "outputs": [
    {
     "name": "stdout",
     "output_type": "stream",
     "text": [
      "Class Counts: {0.0: 127656, 1.0: 126854}\n",
      "Class Percentages: {0.0: 50.157557659816895, 1.0: 49.8424423401831}\n"
     ]
    },
    {
     "data": {
      "image/png": "[encoded data removed]",
      "text/plain": [
       "<Figure size 640x480 with 1 Axes>"
      ]
     },
     "metadata": {},
     "output_type": "display_data"
    }
   ],
   "source": [
    "unique, counts = np.unique(y_train, return_counts=True)\n",
    "class_counts = dict(zip(unique, counts))\n",
    "\n",
    "total_counts = np.sum(counts)\n",
    "class_percentages = {k: (v / total_counts) * 100 for k, v in class_counts.items()}\n",
    "\n",
    "print(\"Class Counts:\", class_counts)\n",
    "print(\"Class Percentages:\", class_percentages)\n",
    "\n",
    "plt.bar(class_counts.keys(), class_counts.values())\n",
    "plt.xlabel('Class')\n",
    "plt.ylabel('Frequency')\n",
    "plt.title('Class Distribution in Dataset')\n",
    "plt.xticks(list(class_counts.keys()))\n",
    "plt.show()"
   ]
  },
  {
   "cell_type": "code",
   "execution_count": null,
   "metadata": {},
   "outputs": [],
   "source": []
  }
 ],
 "metadata": {
  "kernelspec": {
   "display_name": "sieci_neuronowe",
   "language": "python",
   "name": "python3"
  },
  "language_info": {
   "codemirror_mode": {
    "name": "ipython",
    "version": 3
   },
   "file_extension": ".py",
   "mimetype": "text/x-python",
   "name": "python",
   "nbconvert_exporter": "python",
   "pygments_lexer": "ipython3",
   "version": "3.9.18"
  }
 },
 "nbformat": 4,
 "nbformat_minor": 0
}